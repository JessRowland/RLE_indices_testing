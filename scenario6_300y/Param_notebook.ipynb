{
 "cells": [
  {
   "cell_type": "code",
   "execution_count": 1,
   "metadata": {},
   "outputs": [
    {
     "name": "stdout",
     "output_type": "stream",
     "text": [
      "Processing inputs\n"
     ]
    }
   ],
   "source": [
    "import matplotlib \n",
    "import sys\n",
    "from Engine import *\n",
    "\n",
    "# CORSET_v5\n",
    "#\n",
    "# Regional scale bio-physical coral reef model, with map input and\n",
    "# parameterisation for the Meso-American Barrier Reef system and the\n",
    "# South China Sea complex.\n",
    "#\n",
    "# Initial conditions are set for each subregion.\n",
    "\n",
    "#try:\n",
    "#inputpath = sys.argv[1]\n",
    "#outputpath = sys.argv[2]\n",
    "\n",
    "#except:\n",
    "inputpath = 'input/'\n",
    "outputpath = 'output/'\n",
    "\n",
    "\n",
    "Inputs(inputpath,outputpath)\n",
    "# Simulate()"
   ]
  },
  {
   "cell_type": "code",
   "execution_count": null,
   "metadata": {
    "collapsed": true
   },
   "outputs": [],
   "source": [
    "# Loading inputs\n",
    "p = open('_pickle/reefmap','r'); reefmap = pickle.load(p); p.close()\n",
    "p = open('_pickle/params','r'); params = pickle.load(p); p.close()\n",
    "p = open('_pickle/transitionCs','r'); transitionCs=pickle.load(p); p.close()\n",
    "p = open('_pickle/transitionF','r'); transitionF = pickle.load(p); p.close()\n",
    "p = open('_pickle/transitionU','r'); transitionU = pickle.load(p); p.close()\n",
    "p = open('_pickle/transition','r'); transition = pickle.load(p); p.close()\n",
    "p = open('_pickle/forcing_nut','r'); forcing_nut = pickle.load(p); p.close()\n",
    "p = open('_pickle/forcing_sed','r'); forcing_sed = pickle.load(p); p.close()\n",
    "p = open('_pickle/forcing_hurr','r'); forcing_hurr=pickle.load(p); p.close()\n",
    "p = open('_pickle/forcing_cm','r'); forcing_cm = pickle.load(p); p.close()\n",
    "p = open('_pickle/forcing_f','r'); forcing_f = pickle.load(p); p.close()\n",
    "p = open('_pickle/forcing_df','r'); forcing_df = pickle.load(p); p.close()"
   ]
  },
  {
   "cell_type": "code",
   "execution_count": null,
   "metadata": {},
   "outputs": [],
   "source": [
    "params.paramforc"
   ]
  },
  {
   "cell_type": "code",
   "execution_count": null,
   "metadata": {
    "collapsed": true
   },
   "outputs": [],
   "source": [
    "paramfile = open('./input/MAR_params.txt')\n",
    "param_lines = paramfile.readlines()\n",
    "param_lines"
   ]
  },
  {
   "cell_type": "code",
   "execution_count": null,
   "metadata": {
    "collapsed": true
   },
   "outputs": [],
   "source": [
    "dir(forcing_f)"
   ]
  },
  {
   "cell_type": "code",
   "execution_count": null,
   "metadata": {
    "collapsed": true
   },
   "outputs": [],
   "source": [
    "optd = {}\n",
    "valid_names = [\"scenario\",\"region\",\"res_MAR\",\"res_SCS\",\"years\",\n",
    "                  \"equilibration\",\"runs\",\"seed\",\"initial_vals\",\n",
    "                  \"forc_hurr\",\"hfreq\",\"hmax_sr\",\"hmin_cat\",\"hmax_cat\",\n",
    "                  \"forc_cm\",\"cmfreq\",\"cmfreq2\",\"cmmax_sr\",\n",
    "                  \"forc_fish\",\"fmin_MAR\",\"fmax_MAR\",\"fmin_SCS\",\"fmax_SCS\",\n",
    "                  \"fmin_user\",\"fmax_user\",\"forc_df\",\"forc_nut\",\"forc_sed\"]\n",
    "for line in options_lines:\n",
    "    clean_line = line.strip()\n",
    "    if((len(clean_line) > 0) and (clean_line[0] != '#')):\n",
    "        splits = clean_line.split('=')\n",
    "        if(len(splits) == 2):\n",
    "            varname = splits[0].strip()\n",
    "            value = splits[1].strip()\n",
    "            var_split = value.split(\"#\")\n",
    "            if(len(var_split) == 2):\n",
    "                value = var_split[0].strip()\n",
    "            if(varname in valid_names):\n",
    "                if(len(splits) == 2):\n",
    "                    if(varname == 'scenario'):\n",
    "                        optd['scenario'] = value\n",
    "                    elif(varname in ['fmin_MAR','fmax_MAR','fmin_SCS','fmax_SCS',\n",
    "                                     'fmin_user','fmax_user']):\n",
    "                        optd[varname] = float(value)\n",
    "                    else:\n",
    "                        optd[varname] = int(value)\n",
    "            else:\n",
    "                if init_errors == 0:\n",
    "                    print >>error_log,'Errors in options file'\n",
    "                print >>error_log,'\"%s\" is not a valid input key' %varname\n",
    "                print >>error_log,'Valid input keys are ' + `valid_names`\n",
    "                init_errors += 1"
   ]
  },
  {
   "cell_type": "code",
   "execution_count": null,
   "metadata": {
    "collapsed": true
   },
   "outputs": [],
   "source": [
    "optd\n",
    "globals().update(optd)"
   ]
  },
  {
   "cell_type": "code",
   "execution_count": null,
   "metadata": {
    "collapsed": true
   },
   "outputs": [],
   "source": [
    "foptions = {}\n",
    "foptions['hfreq'] = hfreq; foptions['hmax_sr'] = hmax_sr\n",
    "foptions['hmin_cat'] = hmin_cat; foptions['hmax_cat'] = hmax_cat\n",
    "foptions['cmfreq'] =  cmfreq; foptions['cmfreq2'] = cmfreq2\n",
    "foptions['cmmax_sr'] = cmmax_sr"
   ]
  },
  {
   "cell_type": "code",
   "execution_count": null,
   "metadata": {
    "collapsed": true
   },
   "outputs": [],
   "source": [
    "foptions"
   ]
  },
  {
   "cell_type": "code",
   "execution_count": null,
   "metadata": {
    "collapsed": true
   },
   "outputs": [],
   "source": []
  }
 ],
 "metadata": {
  "kernelspec": {
   "display_name": "Python 2",
   "language": "python",
   "name": "python2"
  },
  "language_info": {
   "codemirror_mode": {
    "name": "ipython",
    "version": 2
   },
   "file_extension": ".py",
   "mimetype": "text/x-python",
   "name": "python",
   "nbconvert_exporter": "python",
   "pygments_lexer": "ipython2",
   "version": "2.7.15"
  }
 },
 "nbformat": 4,
 "nbformat_minor": 2
}
